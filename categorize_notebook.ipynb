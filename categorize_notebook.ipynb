{
 "cells": [
  {
   "cell_type": "code",
   "execution_count": null,
   "metadata": {
    "collapsed": true
   },
   "outputs": [],
   "source": []
  },
  {
   "cell_type": "code",
   "execution_count": 1,
   "metadata": {},
   "outputs": [
    {
     "name": "stderr",
     "output_type": "stream",
     "text": [
      "Using TensorFlow backend.\n"
     ]
    }
   ],
   "source": [
    "import tensorflow as tf\n",
    "import pandas as pd\n",
    "from keras.models import Sequential\n",
    "from keras.layers import Dense\n",
    "from keras.layers import Dropout\n",
    "from keras.optimizers import SGD\n",
    "from keras.wrappers.scikit_learn import KerasClassifier\n",
    "from keras.utils import np_utils\n",
    "from sklearn.model_selection import cross_val_score\n",
    "from sklearn.model_selection import KFold\n",
    "from sklearn.preprocessing import LabelEncoder\n",
    "from sklearn.pipeline import Pipeline\n",
    "from sklearn.model_selection import train_test_split"
   ]
  },
  {
   "cell_type": "code",
   "execution_count": 2,
   "metadata": {
    "collapsed": true
   },
   "outputs": [],
   "source": [
    "df = pd.read_csv(\"../categories_data.csv\")"
   ]
  },
  {
   "cell_type": "code",
   "execution_count": 3,
   "metadata": {
    "collapsed": true
   },
   "outputs": [],
   "source": [
    "train, test = train_test_split(df, test_size=0.2)"
   ]
  },
  {
   "cell_type": "code",
   "execution_count": null,
   "metadata": {
    "collapsed": true
   },
   "outputs": [],
   "source": [
    "train.head()"
   ]
  },
  {
   "cell_type": "code",
   "execution_count": null,
   "metadata": {
    "collapsed": true
   },
   "outputs": [],
   "source": [
    "df.shape"
   ]
  },
  {
   "cell_type": "code",
   "execution_count": 4,
   "metadata": {
    "collapsed": true
   },
   "outputs": [],
   "source": [
    "dataset_train = train.values\n",
    "dataset_test = test.values"
   ]
  },
  {
   "cell_type": "code",
   "execution_count": null,
   "metadata": {
    "collapsed": true
   },
   "outputs": [],
   "source": [
    "dataset"
   ]
  },
  {
   "cell_type": "code",
   "execution_count": 5,
   "metadata": {
    "collapsed": true
   },
   "outputs": [],
   "source": [
    "questions_train = dataset_train[:,0:1]\n",
    "questions_test = dataset_test[:,0:1]"
   ]
  },
  {
   "cell_type": "code",
   "execution_count": null,
   "metadata": {
    "collapsed": true
   },
   "outputs": [],
   "source": [
    "questions"
   ]
  },
  {
   "cell_type": "code",
   "execution_count": null,
   "metadata": {
    "collapsed": true
   },
   "outputs": [],
   "source": []
  },
  {
   "cell_type": "code",
   "execution_count": 6,
   "metadata": {
    "collapsed": true
   },
   "outputs": [],
   "source": [
    "def stringToList(string):\n",
    "    tempList = string.split()\n",
    "    newList = list(map(lambda x: int(x), tempList))\n",
    "    return(newList)"
   ]
  },
  {
   "cell_type": "code",
   "execution_count": 7,
   "metadata": {
    "collapsed": true
   },
   "outputs": [],
   "source": [
    "\n",
    "train_questions_int = []\n",
    "\n",
    "for item in questions_train:\n",
    "    intlist=stringToList(str(item[0]))\n",
    "    intlist=intlist+([0]*(160-len(intlist)))\n",
    "    train_questions_int.append(intlist)\n",
    "    "
   ]
  },
  {
   "cell_type": "code",
   "execution_count": 8,
   "metadata": {
    "collapsed": true
   },
   "outputs": [],
   "source": [
    "test_questions_int = []\n",
    "\n",
    "for item in questions_test:\n",
    "    intlist=stringToList(str(item[0]))\n",
    "    intlist=intlist+([0]*(160-len(intlist)))\n",
    "    test_questions_int.append(intlist)"
   ]
  },
  {
   "cell_type": "code",
   "execution_count": 9,
   "metadata": {
    "collapsed": true
   },
   "outputs": [],
   "source": [
    "import numpy as np\n",
    "\n",
    "train_questions_int = np.asarray(train_questions_int,dtype=np.float32)\n",
    "test_questions_int = np.asarray(train_questions_int,dtype=np.float32)"
   ]
  },
  {
   "cell_type": "code",
   "execution_count": 10,
   "metadata": {
    "collapsed": true
   },
   "outputs": [],
   "source": [
    "train_labels = dataset_train[:,1:]\n",
    "test_labels = dataset_test[:,1:]"
   ]
  },
  {
   "cell_type": "code",
   "execution_count": null,
   "metadata": {
    "collapsed": true
   },
   "outputs": [],
   "source": []
  },
  {
   "cell_type": "code",
   "execution_count": 11,
   "metadata": {
    "collapsed": true
   },
   "outputs": [],
   "source": [
    "def baseline_model():\n",
    "    model = Sequential()\n",
    "    model.add(Dense(160, input_dim=160, init='normal', activation='relu'))\n",
    "    model.add(Dropout(0.1))\n",
    "    model.add(Dense(150, init='normal', activation='relu'))\n",
    "    model.add(Dropout(0.1))\n",
    "    model.add(Dense(150, init='normal', activation='relu'))\n",
    "    model.add(Dropout(0.1))\n",
    "    model.add(Dense(150, init='normal', activation='relu'))\n",
    "    model.add(Dropout(0.1))\n",
    "    model.add(Dense(132, init='normal', activation='sigmoid'))\n",
    "    sgd = SGD(lr=0.01, decay=1e-6, momentum=0.9, nesterov=True)\n",
    "    model.compile(loss='binary_crossentropy', optimizer=sgd, metrics=['accuracy'])\n",
    "    return model"
   ]
  },
  {
   "cell_type": "code",
   "execution_count": null,
   "metadata": {
    "collapsed": true
   },
   "outputs": [],
   "source": [
    "#model.fit(train_questions_int, train_labels, epochs=1, batch_size=2000)"
   ]
  },
  {
   "cell_type": "code",
   "execution_count": 12,
   "metadata": {},
   "outputs": [
    {
     "name": "stderr",
     "output_type": "stream",
     "text": [
      "C:\\Users\\PatelCh\\conda\\envs\\tensorflow\\lib\\site-packages\\ipykernel\\__main__.py:3: UserWarning: Update your `Dense` call to the Keras 2 API: `Dense(160, activation=\"relu\", kernel_initializer=\"normal\", input_dim=160)`\n",
      "  app.launch_new_instance()\n",
      "C:\\Users\\PatelCh\\conda\\envs\\tensorflow\\lib\\site-packages\\ipykernel\\__main__.py:5: UserWarning: Update your `Dense` call to the Keras 2 API: `Dense(150, activation=\"relu\", kernel_initializer=\"normal\")`\n",
      "C:\\Users\\PatelCh\\conda\\envs\\tensorflow\\lib\\site-packages\\ipykernel\\__main__.py:7: UserWarning: Update your `Dense` call to the Keras 2 API: `Dense(150, activation=\"relu\", kernel_initializer=\"normal\")`\n",
      "C:\\Users\\PatelCh\\conda\\envs\\tensorflow\\lib\\site-packages\\ipykernel\\__main__.py:9: UserWarning: Update your `Dense` call to the Keras 2 API: `Dense(150, activation=\"relu\", kernel_initializer=\"normal\")`\n",
      "C:\\Users\\PatelCh\\conda\\envs\\tensorflow\\lib\\site-packages\\ipykernel\\__main__.py:11: UserWarning: Update your `Dense` call to the Keras 2 API: `Dense(132, activation=\"sigmoid\", kernel_initializer=\"normal\")`\n"
     ]
    },
    {
     "name": "stdout",
     "output_type": "stream",
     "text": [
      "Epoch 1/10\n",
      "133627/133627 [==============================] - 11s - loss: 0.7445 - acc: 0.9534    \n",
      "Epoch 2/10\n",
      "133627/133627 [==============================] - 4s - loss: 0.2530 - acc: 0.9843     \n",
      "Epoch 3/10\n",
      "133627/133627 [==============================] - 4s - loss: 0.4619 - acc: 0.9712     \n",
      "Epoch 4/10\n",
      "133627/133627 [==============================] - 3s - loss: 0.4679 - acc: 0.9708     \n",
      "Epoch 5/10\n",
      "133627/133627 [==============================] - 3s - loss: 0.4676 - acc: 0.9708     \n",
      "Epoch 6/10\n",
      "133627/133627 [==============================] - 3s - loss: 0.4675 - acc: 0.9708     \n",
      "Epoch 7/10\n",
      "133627/133627 [==============================] - 3s - loss: 0.4675 - acc: 0.9708     \n",
      "Epoch 8/10\n",
      "133627/133627 [==============================] - 4s - loss: 0.4675 - acc: 0.9708     \n",
      "Epoch 9/10\n",
      "133627/133627 [==============================] - 4s - loss: 0.4674 - acc: 0.9708     \n",
      "Epoch 10/10\n",
      "133627/133627 [==============================] - 4s - loss: 0.4674 - acc: 0.9708     \n",
      "14848/14848 [==============================] - 0s     \n",
      "Epoch 1/10\n",
      "133627/133627 [==============================] - 5s - loss: 0.6860 - acc: 0.9571     \n",
      "Epoch 2/10\n",
      "133627/133627 [==============================] - 4s - loss: 0.3609 - acc: 0.9775     \n",
      "Epoch 3/10\n",
      "133627/133627 [==============================] - 4s - loss: 0.3603 - acc: 0.9776     \n",
      "Epoch 4/10\n",
      "133627/133627 [==============================] - 4s - loss: 0.3601 - acc: 0.9776     \n",
      "Epoch 5/10\n",
      "133627/133627 [==============================] - 4s - loss: 0.3601 - acc: 0.9776     \n",
      "Epoch 6/10\n",
      "133627/133627 [==============================] - 4s - loss: 0.3601 - acc: 0.9776     \n",
      "Epoch 7/10\n",
      "133627/133627 [==============================] - 4s - loss: 0.3600 - acc: 0.9776     \n",
      "Epoch 8/10\n",
      "133627/133627 [==============================] - 3s - loss: 0.3600 - acc: 0.9776     \n",
      "Epoch 9/10\n",
      "133627/133627 [==============================] - 3s - loss: 0.3600 - acc: 0.9776     \n",
      "Epoch 10/10\n",
      "133627/133627 [==============================] - 3s - loss: 0.3600 - acc: 0.9776     \n",
      "14000/14848 [===========================>..] - ETA: 0sEpoch 1/10\n",
      "133627/133627 [==============================] - 5s - loss: 0.9235 - acc: 0.9422     \n",
      "Epoch 2/10\n",
      "133627/133627 [==============================] - 4s - loss: 0.5876 - acc: 0.9633     \n",
      "Epoch 3/10\n",
      "133627/133627 [==============================] - 4s - loss: 0.5876 - acc: 0.9633     \n",
      "Epoch 4/10\n",
      "133627/133627 [==============================] - 4s - loss: 0.5876 - acc: 0.9633     \n",
      "Epoch 5/10\n",
      "133627/133627 [==============================] - 4s - loss: 0.5876 - acc: 0.9633     \n",
      "Epoch 6/10\n",
      "133627/133627 [==============================] - 4s - loss: 0.5876 - acc: 0.9633     \n",
      "Epoch 7/10\n",
      "133627/133627 [==============================] - 4s - loss: 0.5876 - acc: 0.9633     \n",
      "Epoch 8/10\n",
      "133627/133627 [==============================] - 3s - loss: 0.5875 - acc: 0.9633     \n",
      "Epoch 9/10\n",
      "133627/133627 [==============================] - 5s - loss: 0.5875 - acc: 0.9633     \n",
      "Epoch 10/10\n",
      "133627/133627 [==============================] - 4s - loss: 0.5876 - acc: 0.9633     \n",
      "14000/14848 [===========================>..] - ETA: 0sEpoch 1/10\n",
      "133627/133627 [==============================] - 6s - loss: 0.9191 - acc: 0.9425     \n",
      "Epoch 2/10\n",
      "133627/133627 [==============================] - 3s - loss: 0.5955 - acc: 0.9628     \n",
      "Epoch 3/10\n",
      "133627/133627 [==============================] - 4s - loss: 0.5954 - acc: 0.9628     \n",
      "Epoch 4/10\n",
      "133627/133627 [==============================] - 4s - loss: 0.5580 - acc: 0.9652     \n",
      "Epoch 5/10\n",
      "133627/133627 [==============================] - 3s - loss: 0.4779 - acc: 0.9702     \n",
      "Epoch 6/10\n",
      "133627/133627 [==============================] - 4s - loss: 0.4779 - acc: 0.9702     \n",
      "Epoch 7/10\n",
      "133627/133627 [==============================] - 4s - loss: 0.4779 - acc: 0.9702     \n",
      "Epoch 8/10\n",
      "133627/133627 [==============================] - 4s - loss: 0.4779 - acc: 0.9702     \n",
      "Epoch 9/10\n",
      "133627/133627 [==============================] - 4s - loss: 0.4779 - acc: 0.9702     \n",
      "Epoch 10/10\n",
      "133627/133627 [==============================] - 4s - loss: 0.4778 - acc: 0.9702     \n",
      "14000/14848 [===========================>..] - ETA: 0sEpoch 1/10\n",
      "133627/133627 [==============================] - 5s - loss: 1.1927 - acc: 0.9253     \n",
      "Epoch 2/10\n",
      "133627/133627 [==============================] - 3s - loss: 0.8360 - acc: 0.9477     \n",
      "Epoch 3/10\n",
      "133627/133627 [==============================] - 3s - loss: 0.7606 - acc: 0.9525     \n",
      "Epoch 4/10\n",
      "133627/133627 [==============================] - 4s - loss: 0.7164 - acc: 0.9552     \n",
      "Epoch 5/10\n",
      "133627/133627 [==============================] - 3s - loss: 0.7163 - acc: 0.9552     \n",
      "Epoch 6/10\n",
      "133627/133627 [==============================] - 3s - loss: 0.7163 - acc: 0.9552     \n",
      "Epoch 7/10\n",
      "133627/133627 [==============================] - 3s - loss: 0.7163 - acc: 0.9552     \n",
      "Epoch 8/10\n",
      "133627/133627 [==============================] - 2s - loss: 0.7163 - acc: 0.9552     \n",
      "Epoch 9/10\n",
      "133627/133627 [==============================] - 2s - loss: 0.7163 - acc: 0.9552     \n",
      "Epoch 10/10\n",
      "133627/133627 [==============================] - 2s - loss: 0.7163 - acc: 0.9552     \n",
      "12000/14848 [=======================>......] - ETA: 0sEpoch 1/10\n",
      "133628/133628 [==============================] - 5s - loss: 0.9614 - acc: 0.9398     \n",
      "Epoch 2/10\n",
      "133628/133628 [==============================] - 4s - loss: 0.5993 - acc: 0.9626     \n",
      "Epoch 3/10\n",
      "133628/133628 [==============================] - 4s - loss: 0.5983 - acc: 0.9626     \n",
      "Epoch 4/10\n",
      "133628/133628 [==============================] - 4s - loss: 0.5981 - acc: 0.9626     \n",
      "Epoch 5/10\n",
      "133628/133628 [==============================] - 4s - loss: 0.5981 - acc: 0.9626     \n",
      "Epoch 6/10\n",
      "133628/133628 [==============================] - 3s - loss: 0.5981 - acc: 0.9626     - ETA: 4s - loss:\n",
      "Epoch 7/10\n",
      "133628/133628 [==============================] - 3s - loss: 0.5981 - acc: 0.9626     \n",
      "Epoch 8/10\n",
      "133628/133628 [==============================] - 4s - loss: 0.5981 - acc: 0.9626     \n",
      "Epoch 9/10\n",
      "133628/133628 [==============================] - 5s - loss: 0.5981 - acc: 0.9626     \n",
      "Epoch 10/10\n",
      "133628/133628 [==============================] - 5s - loss: 0.5981 - acc: 0.9626     \n",
      "10000/14847 [===================>..........] - ETA: 0sEpoch 1/10\n",
      "133628/133628 [==============================] - 5s - loss: 0.9832 - acc: 0.9385     \n",
      "Epoch 2/10\n",
      "133628/133628 [==============================] - 4s - loss: 0.5729 - acc: 0.9642     \n",
      "Epoch 3/10\n",
      "133628/133628 [==============================] - 3s - loss: 0.5726 - acc: 0.9642     \n",
      "Epoch 4/10\n",
      "133628/133628 [==============================] - 2s - loss: 0.5727 - acc: 0.9642     \n",
      "Epoch 5/10\n",
      "133628/133628 [==============================] - 3s - loss: 0.5727 - acc: 0.9642     \n",
      "Epoch 6/10\n",
      "133628/133628 [==============================] - 3s - loss: 0.5727 - acc: 0.9642     \n",
      "Epoch 7/10\n",
      "133628/133628 [==============================] - 3s - loss: 0.5730 - acc: 0.9642     \n",
      "Epoch 8/10\n",
      "133628/133628 [==============================] - 3s - loss: 0.4670 - acc: 0.9709     \n",
      "Epoch 9/10\n",
      "133628/133628 [==============================] - 2s - loss: 0.4618 - acc: 0.9712     \n",
      "Epoch 10/10\n",
      "133628/133628 [==============================] - 2s - loss: 0.4618 - acc: 0.9712     \n",
      "10000/14847 [===================>..........] - ETA: 0sEpoch 1/10\n",
      "133628/133628 [==============================] - 5s - loss: 1.0928 - acc: 0.9316     \n",
      "Epoch 2/10\n",
      "133628/133628 [==============================] - 3s - loss: 0.7158 - acc: 0.9553     \n",
      "Epoch 3/10\n",
      "133628/133628 [==============================] - 3s - loss: 0.7151 - acc: 0.9553     \n",
      "Epoch 4/10\n",
      "133628/133628 [==============================] - 2s - loss: 0.7148 - acc: 0.9553     \n",
      "Epoch 5/10\n",
      "133628/133628 [==============================] - 3s - loss: 0.7146 - acc: 0.9553     \n",
      "Epoch 6/10\n",
      "133628/133628 [==============================] - 4s - loss: 0.7145 - acc: 0.9553     \n",
      "Epoch 7/10\n",
      "133628/133628 [==============================] - 4s - loss: 0.7145 - acc: 0.9553     \n",
      "Epoch 8/10\n",
      "133628/133628 [==============================] - 4s - loss: 0.7145 - acc: 0.9553     \n",
      "Epoch 9/10\n",
      "133628/133628 [==============================] - 4s - loss: 0.7145 - acc: 0.9553     \n",
      "Epoch 10/10\n",
      "133628/133628 [==============================] - 4s - loss: 0.7145 - acc: 0.9553     \n"
     ]
    },
    {
     "name": "stdout",
     "output_type": "stream",
     "text": [
      "10000/14847 [===================>..........] - ETA: 0sEpoch 1/10\n",
      "133628/133628 [==============================] - 6s - loss: 0.9921 - acc: 0.9379     \n",
      "Epoch 2/10\n",
      "133628/133628 [==============================] - 4s - loss: 0.5954 - acc: 0.9628     \n",
      "Epoch 3/10\n",
      "133628/133628 [==============================] - 4s - loss: 0.5954 - acc: 0.9628     \n",
      "Epoch 4/10\n",
      "133628/133628 [==============================] - 5s - loss: 0.5953 - acc: 0.9628     \n",
      "Epoch 5/10\n",
      "133628/133628 [==============================] - 3s - loss: 0.5949 - acc: 0.9628     \n",
      "Epoch 6/10\n",
      "133628/133628 [==============================] - 4s - loss: 0.5949 - acc: 0.9628     \n",
      "Epoch 7/10\n",
      "133628/133628 [==============================] - 3s - loss: 0.5949 - acc: 0.9628     \n",
      "Epoch 8/10\n",
      "133628/133628 [==============================] - 4s - loss: 0.5949 - acc: 0.9628     \n",
      "Epoch 9/10\n",
      "133628/133628 [==============================] - 3s - loss: 0.5949 - acc: 0.9628     \n",
      "Epoch 10/10\n",
      "133628/133628 [==============================] - 4s - loss: 0.5949 - acc: 0.9628     \n",
      "10000/14847 [===================>..........] - ETA: 0sEpoch 1/10\n",
      "133628/133628 [==============================] - 5s - loss: 1.2087 - acc: 0.9243     \n",
      "Epoch 2/10\n",
      "133628/133628 [==============================] - 4s - loss: 0.8324 - acc: 0.9479     \n",
      "Epoch 3/10\n",
      "133628/133628 [==============================] - 4s - loss: 0.8315 - acc: 0.9480     - ETA: 1s - loss:\n",
      "Epoch 4/10\n",
      "133628/133628 [==============================] - 4s - loss: 0.7212 - acc: 0.9549     \n",
      "Epoch 5/10\n",
      "133628/133628 [==============================] - 4s - loss: 0.7142 - acc: 0.9554     \n",
      "Epoch 6/10\n",
      "133628/133628 [==============================] - 4s - loss: 0.7141 - acc: 0.9554     \n",
      "Epoch 7/10\n",
      "133628/133628 [==============================] - 4s - loss: 0.7141 - acc: 0.9554     \n",
      "Epoch 8/10\n",
      "133628/133628 [==============================] - 4s - loss: 0.6761 - acc: 0.9578     \n",
      "Epoch 9/10\n",
      "133628/133628 [==============================] - 4s - loss: 0.5511 - acc: 0.9656     \n",
      "Epoch 10/10\n",
      "133628/133628 [==============================] - 3s - loss: 0.4771 - acc: 0.9702     \n",
      "10000/14847 [===================>..........] - ETA: 0sAccuracy: 96.60% (0.69%)\n"
     ]
    }
   ],
   "source": [
    "seed = 7\n",
    "np.random.seed(seed)\n",
    "estimator = KerasClassifier(build_fn=baseline_model, nb_epoch=200, batch_size=2000)\n",
    "kfold = KFold(n_splits=10, shuffle=True, random_state=seed)\n",
    "results = cross_val_score(estimator, train_questions_int, train_labels, cv=kfold)\n",
    "print(\"Accuracy: %.2f%% (%.2f%%)\" % (results.mean()*100, results.std()*100))"
   ]
  },
  {
   "cell_type": "code",
   "execution_count": 13,
   "metadata": {},
   "outputs": [
    {
     "name": "stderr",
     "output_type": "stream",
     "text": [
      "C:\\Users\\PatelCh\\conda\\envs\\tensorflow\\lib\\site-packages\\ipykernel\\__main__.py:3: UserWarning: Update your `Dense` call to the Keras 2 API: `Dense(160, activation=\"relu\", kernel_initializer=\"normal\", input_dim=160)`\n",
      "  app.launch_new_instance()\n",
      "C:\\Users\\PatelCh\\conda\\envs\\tensorflow\\lib\\site-packages\\ipykernel\\__main__.py:5: UserWarning: Update your `Dense` call to the Keras 2 API: `Dense(150, activation=\"relu\", kernel_initializer=\"normal\")`\n",
      "C:\\Users\\PatelCh\\conda\\envs\\tensorflow\\lib\\site-packages\\ipykernel\\__main__.py:7: UserWarning: Update your `Dense` call to the Keras 2 API: `Dense(150, activation=\"relu\", kernel_initializer=\"normal\")`\n",
      "C:\\Users\\PatelCh\\conda\\envs\\tensorflow\\lib\\site-packages\\ipykernel\\__main__.py:9: UserWarning: Update your `Dense` call to the Keras 2 API: `Dense(150, activation=\"relu\", kernel_initializer=\"normal\")`\n",
      "C:\\Users\\PatelCh\\conda\\envs\\tensorflow\\lib\\site-packages\\ipykernel\\__main__.py:11: UserWarning: Update your `Dense` call to the Keras 2 API: `Dense(132, activation=\"sigmoid\", kernel_initializer=\"normal\")`\n"
     ]
    }
   ],
   "source": [
    "baseline_model().save('categorize_model.h5')"
   ]
  },
  {
   "cell_type": "code",
   "execution_count": null,
   "metadata": {},
   "outputs": [],
   "source": [
    "preds = baseline_model().predict(test_questions_int)"
   ]
  },
  {
   "cell_type": "code",
   "execution_count": null,
   "metadata": {},
   "outputs": [],
   "source": [
    "test_questions_int.shape"
   ]
  },
  {
   "cell_type": "code",
   "execution_count": null,
   "metadata": {
    "collapsed": true
   },
   "outputs": [],
   "source": [
    "from sklearn.metrics import accuracy_score"
   ]
  },
  {
   "cell_type": "code",
   "execution_count": 14,
   "metadata": {
    "collapsed": true
   },
   "outputs": [],
   "source": [
    "import re\n",
    "import string\n",
    "import nltk\n",
    "import json\n",
    "\n",
    "from nltk.tokenize import word_tokenize\n",
    "from nltk.corpus import stopwords\n",
    "from nltk.stem.wordnet import WordNetLemmatizer\n",
    "from html.entities import name2codepoint\n",
    "from bs4 import BeautifulSoup\n",
    "from keras.models import load_model"
   ]
  },
  {
   "cell_type": "code",
   "execution_count": 16,
   "metadata": {
    "collapsed": true
   },
   "outputs": [],
   "source": [
    "regex = re.compile('[%s]' % re.escape(string.punctuation))\n",
    "wordnet = WordNetLemmatizer()\n",
    "\n",
    "f = open(\"bagOfWords.json\", 'r')\n",
    "bag = json.loads(f.read())"
   ]
  },
  {
   "cell_type": "code",
   "execution_count": 17,
   "metadata": {
    "collapsed": true
   },
   "outputs": [],
   "source": [
    "def unescape(text):\n",
    "    def fixup(m):\n",
    "        text = m.group(0)\n",
    "        if text[:2] == \"&#\":\n",
    "            # character reference\n",
    "            try:\n",
    "                if text[:3] == \"&#x\":\n",
    "                    return chr(int(text[3:-1], 16))\n",
    "                else:\n",
    "                    return chr(int(text[2:-1]))\n",
    "            except ValueError:\n",
    "                pass\n",
    "        else:\n",
    "            # named entity\n",
    "            try:\n",
    "                text = chr(name2codepoint[text[1:-1]])\n",
    "            except KeyError:\n",
    "                pass\n",
    "        return text  # leave as is\n",
    "    return re.sub(\"&#?\\w+;\", fixup, text)"
   ]
  },
  {
   "cell_type": "code",
   "execution_count": 18,
   "metadata": {
    "collapsed": true
   },
   "outputs": [],
   "source": [
    "def cleanText(text):\n",
    "    text = text.lower()\n",
    "    soup = BeautifulSoup(unescape(text), \"html.parser\")\n",
    "    text = soup.get_text()  # nltk.clean_html(unescape(text))\n",
    "\n",
    "    tokens = word_tokenize(text)\n",
    "    new_tokens = []\n",
    "    for t in tokens:\n",
    "        nt = regex.sub(u'', t)\n",
    "        if not nt == u'' and nt not in stopwords.words('english'):\n",
    "            new_tokens.append(wordnet.lemmatize(nt))\n",
    "\n",
    "    return \" \".join(new_tokens)"
   ]
  },
  {
   "cell_type": "code",
   "execution_count": 19,
   "metadata": {
    "collapsed": true
   },
   "outputs": [],
   "source": [
    "userInput = \"\"\"Install amdgpu drivers on Ubuntu Server 16.04.3 LTS.  I have made it completely through the process of installing the AMDgpu drivers; yet at the end of the process when I run a package query, it finds no matching package.\n",
    "     wget --referer http://support.amd.com \\ > https://www2.ati.com/drivers/linux/ubuntu/amdgpu-pro-17.40-492261.tar.xz\n",
    "\n",
    "tar xvf amdgpu-pro-17.40-492261.tar.xz\n",
    "\n",
    "cd /amdgpu-pro-17.40-492261\n",
    "\n",
    "./amdgpu-pro-install --compute\"\"\""
   ]
  },
  {
   "cell_type": "code",
   "execution_count": 20,
   "metadata": {
    "collapsed": true
   },
   "outputs": [],
   "source": [
    "train_questions_int = []\n",
    "userInpuuserInput = cleanText(userInput)\n",
    "inputTok = userInput.split()[:160]\n",
    "inputTok = [bag[t] if t in bag else 0 for t in inputTok]\n",
    "inputTok=inputTok+([0]*(160-len(inputTok)))\n",
    "\n"
   ]
  },
  {
   "cell_type": "code",
   "execution_count": 21,
   "metadata": {
    "collapsed": true
   },
   "outputs": [],
   "source": [
    "\n",
    "inputTok = np.asarray(inputTok,dtype=np.float32)\n",
    "final = np.array([inputTok])"
   ]
  },
  {
   "cell_type": "code",
   "execution_count": 15,
   "metadata": {
    "collapsed": true
   },
   "outputs": [],
   "source": [
    "loaded_model = load_model('categorize_model.h5')"
   ]
  },
  {
   "cell_type": "code",
   "execution_count": 22,
   "metadata": {},
   "outputs": [],
   "source": [
    "preds = loaded_model.predict(final)"
   ]
  },
  {
   "cell_type": "code",
   "execution_count": 23,
   "metadata": {},
   "outputs": [
    {
     "data": {
      "text/plain": [
       "array([[  1.00000000e+00,   0.00000000e+00,   1.00000000e+00,\n",
       "          1.00000000e+00,   1.00000000e+00,   0.00000000e+00,\n",
       "          0.00000000e+00,   1.00000000e+00,   0.00000000e+00,\n",
       "          0.00000000e+00,   0.00000000e+00,   0.00000000e+00,\n",
       "          0.00000000e+00,   1.00000000e+00,   0.00000000e+00,\n",
       "          3.01619865e-28,   1.00000000e+00,   1.00000000e+00,\n",
       "          0.00000000e+00,   0.00000000e+00,   1.59841097e-14,\n",
       "          0.00000000e+00,   1.00000000e+00,   1.00000000e+00,\n",
       "          1.00000000e+00,   0.00000000e+00,   1.00000000e+00,\n",
       "          1.00000000e+00,   1.00000000e+00,   0.00000000e+00,\n",
       "          1.00000000e+00,   0.00000000e+00,   1.00000000e+00,\n",
       "          1.00000000e+00,   1.00000000e+00,   0.00000000e+00,\n",
       "          1.00000000e+00,   1.00000000e+00,   9.97950256e-01,\n",
       "          1.00000000e+00,   0.00000000e+00,   1.00000000e+00,\n",
       "          1.00000000e+00,   1.00000000e+00,   0.00000000e+00,\n",
       "          0.00000000e+00,   1.00000000e+00,   0.00000000e+00,\n",
       "          1.00000000e+00,   1.00000000e+00,   1.00000000e+00,\n",
       "          0.00000000e+00,   0.00000000e+00,   0.00000000e+00,\n",
       "          1.00000000e+00,   1.00000000e+00,   0.00000000e+00,\n",
       "          0.00000000e+00,   1.00000000e+00,   1.00000000e+00,\n",
       "          1.00000000e+00,   1.00000000e+00,   0.00000000e+00,\n",
       "          0.00000000e+00,   0.00000000e+00,   0.00000000e+00,\n",
       "          1.00000000e+00,   0.00000000e+00,   1.00000000e+00,\n",
       "          1.00000000e+00,   1.00000000e+00,   0.00000000e+00,\n",
       "          1.00000000e+00,   1.00000000e+00,   1.00000000e+00,\n",
       "          0.00000000e+00,   0.00000000e+00,   0.00000000e+00,\n",
       "          1.00000000e+00,   0.00000000e+00,   1.00000000e+00,\n",
       "          1.00000000e+00,   0.00000000e+00,   1.00000000e+00,\n",
       "          8.72609969e-27,   0.00000000e+00,   0.00000000e+00,\n",
       "          1.00000000e+00,   0.00000000e+00,   0.00000000e+00,\n",
       "          1.00000000e+00,   0.00000000e+00,   0.00000000e+00,\n",
       "          0.00000000e+00,   1.00000000e+00,   0.00000000e+00,\n",
       "          1.00000000e+00,   0.00000000e+00,   0.00000000e+00,\n",
       "          1.00000000e+00,   1.00000000e+00,   0.00000000e+00,\n",
       "          0.00000000e+00,   0.00000000e+00,   0.00000000e+00,\n",
       "          1.00000000e+00,   1.00000000e+00,   1.00000000e+00,\n",
       "          0.00000000e+00,   0.00000000e+00,   1.00000000e+00,\n",
       "          1.00000000e+00,   0.00000000e+00,   0.00000000e+00,\n",
       "          1.00000000e+00,   0.00000000e+00,   0.00000000e+00,\n",
       "          1.00000000e+00,   0.00000000e+00,   1.00000000e+00,\n",
       "          0.00000000e+00,   0.00000000e+00,   1.00000000e+00,\n",
       "          1.00000000e+00,   0.00000000e+00,   1.00000000e+00,\n",
       "          0.00000000e+00,   1.00000000e+00,   1.00000000e+00,\n",
       "          0.00000000e+00,   0.00000000e+00,   0.00000000e+00]], dtype=float32)"
      ]
     },
     "execution_count": 23,
     "metadata": {},
     "output_type": "execute_result"
    }
   ],
   "source": [
    "preds"
   ]
  },
  {
   "cell_type": "code",
   "execution_count": null,
   "metadata": {
    "collapsed": true
   },
   "outputs": [],
   "source": []
  }
 ],
 "metadata": {
  "kernelspec": {
   "display_name": "Python 3",
   "language": "python",
   "name": "python3"
  },
  "language_info": {
   "codemirror_mode": {
    "name": "ipython",
    "version": 3
   },
   "file_extension": ".py",
   "mimetype": "text/x-python",
   "name": "python",
   "nbconvert_exporter": "python",
   "pygments_lexer": "ipython3",
   "version": "3.5.3"
  }
 },
 "nbformat": 4,
 "nbformat_minor": 2
}
