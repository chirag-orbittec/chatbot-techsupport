{
 "cells": [
  {
   "cell_type": "code",
   "execution_count": null,
   "metadata": {
    "collapsed": true
   },
   "outputs": [],
   "source": []
  },
  {
   "cell_type": "code",
   "execution_count": 15,
   "metadata": {},
   "outputs": [],
   "source": [
    "import tensorflow as tf\n",
    "import pandas as pd\n",
    "from keras.models import Sequential\n",
    "from keras.layers import Dense\n",
    "from keras.layers import Dropout\n",
    "from keras.optimizers import SGD\n",
    "from keras.wrappers.scikit_learn import KerasClassifier\n",
    "from keras.utils import np_utils\n",
    "from sklearn.model_selection import cross_val_score\n",
    "from sklearn.model_selection import KFold\n",
    "from sklearn.preprocessing import LabelEncoder\n",
    "from sklearn.pipeline import Pipeline\n",
    "from sklearn.model_selection import train_test_split"
   ]
  },
  {
   "cell_type": "code",
   "execution_count": 3,
   "metadata": {},
   "outputs": [],
   "source": [
    "df = pd.read_csv(\"../categories_data.csv\")"
   ]
  },
  {
   "cell_type": "code",
   "execution_count": 4,
   "metadata": {
    "collapsed": true
   },
   "outputs": [],
   "source": [
    "train, test = train_test_split(df, test_size=0.2)"
   ]
  },
  {
   "cell_type": "code",
   "execution_count": null,
   "metadata": {
    "collapsed": true
   },
   "outputs": [],
   "source": [
    "train.head()"
   ]
  },
  {
   "cell_type": "code",
   "execution_count": null,
   "metadata": {
    "collapsed": true
   },
   "outputs": [],
   "source": [
    "df.shape"
   ]
  },
  {
   "cell_type": "code",
   "execution_count": 6,
   "metadata": {
    "collapsed": true
   },
   "outputs": [],
   "source": [
    "dataset_train = train.values\n",
    "dataset_test = test.values"
   ]
  },
  {
   "cell_type": "code",
   "execution_count": null,
   "metadata": {
    "collapsed": true
   },
   "outputs": [],
   "source": [
    "dataset"
   ]
  },
  {
   "cell_type": "code",
   "execution_count": 7,
   "metadata": {
    "collapsed": true
   },
   "outputs": [],
   "source": [
    "questions_train = dataset_train[:,0:1]\n",
    "questions_test = dataset_test[:,0:1]"
   ]
  },
  {
   "cell_type": "code",
   "execution_count": null,
   "metadata": {
    "collapsed": true
   },
   "outputs": [],
   "source": [
    "questions"
   ]
  },
  {
   "cell_type": "code",
   "execution_count": null,
   "metadata": {
    "collapsed": true
   },
   "outputs": [],
   "source": []
  },
  {
   "cell_type": "code",
   "execution_count": 8,
   "metadata": {
    "collapsed": true
   },
   "outputs": [],
   "source": [
    "def stringToList(string):\n",
    "    tempList = string.split()\n",
    "    newList = list(map(lambda x: int(x), tempList))\n",
    "    return(newList)"
   ]
  },
  {
   "cell_type": "code",
   "execution_count": 9,
   "metadata": {
    "collapsed": true
   },
   "outputs": [],
   "source": [
    "\n",
    "train_questions_int = []\n",
    "\n",
    "for item in questions_train:\n",
    "    intlist=stringToList(str(item[0]))\n",
    "    intlist=intlist+([0]*(160-len(intlist)))\n",
    "    train_questions_int.append(intlist)\n",
    "    "
   ]
  },
  {
   "cell_type": "code",
   "execution_count": 10,
   "metadata": {
    "collapsed": true
   },
   "outputs": [],
   "source": [
    "test_questions_int = []\n",
    "\n",
    "for item in questions_test:\n",
    "    intlist=stringToList(str(item[0]))\n",
    "    intlist=intlist+([0]*(160-len(intlist)))\n",
    "    test_questions_int.append(intlist)"
   ]
  },
  {
   "cell_type": "code",
   "execution_count": 11,
   "metadata": {
    "collapsed": true
   },
   "outputs": [],
   "source": [
    "import numpy as np\n",
    "\n",
    "train_questions_int = np.asarray(train_questions_int,dtype=np.float32)\n",
    "test_questions_int = np.asarray(train_questions_int,dtype=np.float32)"
   ]
  },
  {
   "cell_type": "code",
   "execution_count": 12,
   "metadata": {
    "collapsed": true
   },
   "outputs": [],
   "source": [
    "train_labels = dataset_train[:,1:]\n",
    "test_labels = dataset_test[:,1:]"
   ]
  },
  {
   "cell_type": "code",
   "execution_count": null,
   "metadata": {
    "collapsed": true
   },
   "outputs": [],
   "source": []
  },
  {
   "cell_type": "code",
   "execution_count": 13,
   "metadata": {},
   "outputs": [],
   "source": [
    "def baseline_model():\n",
    "    model = Sequential()\n",
    "    model.add(Dense(160, input_dim=160, init='normal', activation='relu'))\n",
    "    model.add(Dropout(0.1))\n",
    "    model.add(Dense(150, init='normal', activation='relu'))\n",
    "    model.add(Dropout(0.1))\n",
    "    model.add(Dense(150, init='normal', activation='relu'))\n",
    "    model.add(Dropout(0.1))\n",
    "    model.add(Dense(150, init='normal', activation='relu'))\n",
    "    model.add(Dropout(0.1))\n",
    "    model.add(Dense(132, init='normal', activation='sigmoid'))\n",
    "    sgd = SGD(lr=0.01, decay=1e-6, momentum=0.9, nesterov=True)\n",
    "    model.compile(loss='binary_crossentropy', optimizer=sgd, metrics=['accuracy'])\n",
    "    return model"
   ]
  },
  {
   "cell_type": "code",
   "execution_count": null,
   "metadata": {
    "collapsed": true
   },
   "outputs": [],
   "source": [
    "#model.fit(train_questions_int, train_labels, epochs=1, batch_size=2000)"
   ]
  },
  {
   "cell_type": "code",
   "execution_count": 16,
   "metadata": {},
   "outputs": [
    {
     "name": "stderr",
     "output_type": "stream",
     "text": [
      "C:\\Users\\PatelCh\\conda\\envs\\tensorflow\\lib\\site-packages\\ipykernel\\__main__.py:3: UserWarning: Update your `Dense` call to the Keras 2 API: `Dense(160, input_dim=160, activation=\"relu\", kernel_initializer=\"normal\")`\n",
      "  app.launch_new_instance()\n",
      "C:\\Users\\PatelCh\\conda\\envs\\tensorflow\\lib\\site-packages\\ipykernel\\__main__.py:5: UserWarning: Update your `Dense` call to the Keras 2 API: `Dense(150, activation=\"relu\", kernel_initializer=\"normal\")`\n",
      "C:\\Users\\PatelCh\\conda\\envs\\tensorflow\\lib\\site-packages\\ipykernel\\__main__.py:7: UserWarning: Update your `Dense` call to the Keras 2 API: `Dense(150, activation=\"relu\", kernel_initializer=\"normal\")`\n",
      "C:\\Users\\PatelCh\\conda\\envs\\tensorflow\\lib\\site-packages\\ipykernel\\__main__.py:9: UserWarning: Update your `Dense` call to the Keras 2 API: `Dense(150, activation=\"relu\", kernel_initializer=\"normal\")`\n",
      "C:\\Users\\PatelCh\\conda\\envs\\tensorflow\\lib\\site-packages\\ipykernel\\__main__.py:11: UserWarning: Update your `Dense` call to the Keras 2 API: `Dense(132, activation=\"sigmoid\", kernel_initializer=\"normal\")`\n"
     ]
    },
    {
     "name": "stdout",
     "output_type": "stream",
     "text": [
      "Epoch 1/10\n",
      "133627/133627 [==============================] - 4s - loss: 1.0341 - acc: 0.9353     \n",
      "Epoch 2/10\n",
      "133627/133627 [==============================] - 2s - loss: 0.6999 - acc: 0.9563     \n",
      "Epoch 3/10\n",
      "133627/133627 [==============================] - 2s - loss: 0.6034 - acc: 0.9623     \n",
      "Epoch 4/10\n",
      "133627/133627 [==============================] - 2s - loss: 0.5805 - acc: 0.9637     \n",
      "Epoch 5/10\n",
      "133627/133627 [==============================] - 2s - loss: 0.5805 - acc: 0.9637     \n",
      "Epoch 6/10\n",
      "133627/133627 [==============================] - 2s - loss: 0.5804 - acc: 0.9637     \n",
      "Epoch 7/10\n",
      "133627/133627 [==============================] - 2s - loss: 0.5802 - acc: 0.9638     \n",
      "Epoch 8/10\n",
      "133627/133627 [==============================] - 2s - loss: 0.5802 - acc: 0.9638     \n",
      "Epoch 9/10\n",
      "133627/133627 [==============================] - 2s - loss: 0.5802 - acc: 0.9638     - ETA: 1s - loss: 0\n",
      "Epoch 10/10\n",
      "133627/133627 [==============================] - 2s - loss: 0.5802 - acc: 0.9638     \n",
      "14848/14848 [==============================] - 0s     \n",
      "Epoch 1/10\n",
      "133627/133627 [==============================] - 2s - loss: 0.6550 - acc: 0.9590     \n",
      "Epoch 2/10\n",
      "133627/133627 [==============================] - 1s - loss: 0.3603 - acc: 0.9776     \n",
      "Epoch 3/10\n",
      "133627/133627 [==============================] - 2s - loss: 0.3597 - acc: 0.9776     \n",
      "Epoch 4/10\n",
      "133627/133627 [==============================] - 1s - loss: 0.3597 - acc: 0.9776     \n",
      "Epoch 5/10\n",
      "133627/133627 [==============================] - 1s - loss: 0.3597 - acc: 0.9776     \n",
      "Epoch 6/10\n",
      "133627/133627 [==============================] - 1s - loss: 0.3597 - acc: 0.9776     \n",
      "Epoch 7/10\n",
      "133627/133627 [==============================] - 1s - loss: 0.3597 - acc: 0.9776     \n",
      "Epoch 8/10\n",
      "133627/133627 [==============================] - 1s - loss: 0.3597 - acc: 0.9776     \n",
      "Epoch 9/10\n",
      "133627/133627 [==============================] - 1s - loss: 0.3597 - acc: 0.9776     \n",
      "Epoch 10/10\n",
      "133627/133627 [==============================] - 1s - loss: 0.3597 - acc: 0.9776     \n",
      "14848/14848 [==============================] - 0s     \n",
      "Epoch 1/10\n",
      "133627/133627 [==============================] - 2s - loss: 0.9079 - acc: 0.9432     \n",
      "Epoch 2/10\n",
      "133627/133627 [==============================] - 1s - loss: 0.5916 - acc: 0.9631     \n",
      "Epoch 3/10\n",
      "133627/133627 [==============================] - 1s - loss: 0.5519 - acc: 0.9655     \n",
      "Epoch 4/10\n",
      "133627/133627 [==============================] - 1s - loss: 0.4719 - acc: 0.9706     \n",
      "Epoch 5/10\n",
      "133627/133627 [==============================] - 1s - loss: 0.4719 - acc: 0.9706     \n",
      "Epoch 6/10\n",
      "133627/133627 [==============================] - 1s - loss: 0.4719 - acc: 0.9706     \n",
      "Epoch 7/10\n",
      "133627/133627 [==============================] - 1s - loss: 0.4718 - acc: 0.9706     \n",
      "Epoch 8/10\n",
      "133627/133627 [==============================] - 1s - loss: 0.4718 - acc: 0.9706     \n",
      "Epoch 9/10\n",
      "133627/133627 [==============================] - 1s - loss: 0.4718 - acc: 0.9706     \n",
      "Epoch 10/10\n",
      "133627/133627 [==============================] - 1s - loss: 0.3786 - acc: 0.9764     \n",
      "14000/14848 [===========================>..] - ETA: 0sEpoch 1/10\n",
      "133627/133627 [==============================] - 2s - loss: 1.2207 - acc: 0.9236     \n",
      "Epoch 2/10\n",
      "133627/133627 [==============================] - 1s - loss: 0.8271 - acc: 0.9483     \n",
      "Epoch 3/10\n",
      "133627/133627 [==============================] - 1s - loss: 0.8184 - acc: 0.9488     \n",
      "Epoch 4/10\n",
      "133627/133627 [==============================] - 2s - loss: 0.6671 - acc: 0.9583     \n",
      "Epoch 5/10\n",
      "133627/133627 [==============================] - 1s - loss: 0.5021 - acc: 0.9687     \n",
      "Epoch 6/10\n",
      "133627/133627 [==============================] - 1s - loss: 0.4788 - acc: 0.9701     \n",
      "Epoch 7/10\n",
      "133627/133627 [==============================] - 1s - loss: 0.4778 - acc: 0.9702     \n",
      "Epoch 8/10\n",
      "133627/133627 [==============================] - 1s - loss: 0.4778 - acc: 0.9702     \n",
      "Epoch 9/10\n",
      "133627/133627 [==============================] - 1s - loss: 0.4778 - acc: 0.9702     \n",
      "Epoch 10/10\n",
      "133627/133627 [==============================] - 1s - loss: 0.4778 - acc: 0.9702     \n",
      "14848/14848 [==============================] - 0s     \n",
      "Epoch 1/10\n",
      "133627/133627 [==============================] - 2s - loss: 1.3081 - acc: 0.9181     \n",
      "Epoch 2/10\n",
      "133627/133627 [==============================] - 1s - loss: 1.0712 - acc: 0.9330     \n",
      "Epoch 3/10\n",
      "133627/133627 [==============================] - 1s - loss: 1.0712 - acc: 0.9330     \n",
      "Epoch 4/10\n",
      "133627/133627 [==============================] - 1s - loss: 1.0707 - acc: 0.9330     \n",
      "Epoch 5/10\n",
      "133627/133627 [==============================] - 1s - loss: 0.9756 - acc: 0.9390     \n",
      "Epoch 6/10\n",
      "133627/133627 [==============================] - 1s - loss: 0.9518 - acc: 0.9405     \n",
      "Epoch 7/10\n",
      "133627/133627 [==============================] - 1s - loss: 0.9517 - acc: 0.9405     \n",
      "Epoch 8/10\n",
      "133627/133627 [==============================] - 1s - loss: 0.9517 - acc: 0.9405     \n",
      "Epoch 9/10\n",
      "133627/133627 [==============================] - 1s - loss: 0.9518 - acc: 0.9405     \n",
      "Epoch 10/10\n",
      "133627/133627 [==============================] - 1s - loss: 0.9518 - acc: 0.9405     \n",
      " 2000/14848 [===>..........................] - ETA: 0sEpoch 1/10\n",
      "133628/133628 [==============================] - 2s - loss: 0.9077 - acc: 0.9432     \n",
      "Epoch 2/10\n",
      "133628/133628 [==============================] - 1s - loss: 0.5983 - acc: 0.9626     \n",
      "Epoch 3/10\n",
      "133628/133628 [==============================] - 1s - loss: 0.5981 - acc: 0.9626     \n",
      "Epoch 4/10\n",
      "133628/133628 [==============================] - 1s - loss: 0.5980 - acc: 0.9627     \n",
      "Epoch 5/10\n",
      "133628/133628 [==============================] - 1s - loss: 0.5980 - acc: 0.9627     \n",
      "Epoch 6/10\n",
      "133628/133628 [==============================] - 1s - loss: 0.5980 - acc: 0.9627     \n",
      "Epoch 7/10\n",
      "133628/133628 [==============================] - 1s - loss: 0.5980 - acc: 0.9627     \n",
      "Epoch 8/10\n",
      "133628/133628 [==============================] - 1s - loss: 0.5980 - acc: 0.9627     \n",
      "Epoch 9/10\n",
      "133628/133628 [==============================] - 1s - loss: 0.5979 - acc: 0.9627     \n",
      "Epoch 10/10\n",
      "133628/133628 [==============================] - 1s - loss: 0.5979 - acc: 0.9627     \n",
      " 2000/14847 [===>..........................] - ETA: 0sEpoch 1/10\n",
      "133628/133628 [==============================] - 2s - loss: 1.0227 - acc: 0.9360     \n",
      "Epoch 2/10\n",
      "133628/133628 [==============================] - 1s - loss: 0.7007 - acc: 0.9562     \n",
      "Epoch 3/10\n",
      "133628/133628 [==============================] - 1s - loss: 0.7006 - acc: 0.9562     \n",
      "Epoch 4/10\n",
      "133628/133628 [==============================] - 1s - loss: 0.6279 - acc: 0.9608     \n",
      "Epoch 5/10\n",
      "133628/133628 [==============================] - 1s - loss: 0.5820 - acc: 0.9636     \n",
      "Epoch 6/10\n",
      "133628/133628 [==============================] - 1s - loss: 0.5820 - acc: 0.9636     \n",
      "Epoch 7/10\n",
      "133628/133628 [==============================] - 1s - loss: 0.5820 - acc: 0.9637     \n",
      "Epoch 8/10\n",
      "133628/133628 [==============================] - 1s - loss: 0.5820 - acc: 0.9637     \n",
      "Epoch 9/10\n",
      "133628/133628 [==============================] - 1s - loss: 0.5820 - acc: 0.9637     \n",
      "Epoch 10/10\n",
      "133628/133628 [==============================] - 1s - loss: 0.5820 - acc: 0.9637     \n",
      "14000/14847 [===========================>..] - ETA: 0sEpoch 1/10\n",
      "133628/133628 [==============================] - 2s - loss: 1.1304 - acc: 0.9292     \n",
      "Epoch 2/10\n",
      "133628/133628 [==============================] - 1s - loss: 0.7127 - acc: 0.9555     \n",
      "Epoch 3/10\n",
      "133628/133628 [==============================] - 1s - loss: 0.6065 - acc: 0.9621     \n",
      "Epoch 4/10\n",
      "133628/133628 [==============================] - 1s - loss: 0.5970 - acc: 0.9627     \n",
      "Epoch 5/10\n",
      "133628/133628 [==============================] - 1s - loss: 0.5968 - acc: 0.9627     \n",
      "Epoch 6/10\n",
      "133628/133628 [==============================] - 1s - loss: 0.5966 - acc: 0.9627     \n",
      "Epoch 7/10\n",
      "133628/133628 [==============================] - 1s - loss: 0.5393 - acc: 0.9663     \n",
      "Epoch 8/10\n",
      "133628/133628 [==============================] - 1s - loss: 0.4793 - acc: 0.9701     \n",
      "Epoch 9/10\n",
      "133628/133628 [==============================] - 1s - loss: 0.4793 - acc: 0.9701     \n",
      "Epoch 10/10\n",
      "133628/133628 [==============================] - 1s - loss: 0.4793 - acc: 0.9701     \n"
     ]
    },
    {
     "name": "stdout",
     "output_type": "stream",
     "text": [
      "14000/14847 [===========================>..] - ETA: 0sEpoch 1/10\n",
      "133628/133628 [==============================] - 2s - loss: 1.1279 - acc: 0.9294     \n",
      "Epoch 2/10\n",
      "133628/133628 [==============================] - 1s - loss: 0.7555 - acc: 0.9528     \n",
      "Epoch 3/10\n",
      "133628/133628 [==============================] - 1s - loss: 0.5953 - acc: 0.9628     \n",
      "Epoch 4/10\n",
      "133628/133628 [==============================] - 1s - loss: 0.5952 - acc: 0.9628     \n",
      "Epoch 5/10\n",
      "133628/133628 [==============================] - 1s - loss: 0.5952 - acc: 0.9628     \n",
      "Epoch 6/10\n",
      "133628/133628 [==============================] - 1s - loss: 0.5952 - acc: 0.9628     \n",
      "Epoch 7/10\n",
      "133628/133628 [==============================] - 1s - loss: 0.5950 - acc: 0.9628     \n",
      "Epoch 8/10\n",
      "133628/133628 [==============================] - 1s - loss: 0.5950 - acc: 0.9628     \n",
      "Epoch 9/10\n",
      "133628/133628 [==============================] - 1s - loss: 0.5950 - acc: 0.9628     \n",
      "Epoch 10/10\n",
      "133628/133628 [==============================] - 1s - loss: 0.5950 - acc: 0.9628     \n",
      " 2000/14847 [===>..........................] - ETA: 0sEpoch 1/10\n",
      "133628/133628 [==============================] - 2s - loss: 1.0940 - acc: 0.9315     \n",
      "Epoch 2/10\n",
      "133628/133628 [==============================] - 1s - loss: 0.7532 - acc: 0.9529     \n",
      "Epoch 3/10\n",
      "133628/133628 [==============================] - 1s - loss: 0.5964 - acc: 0.9628     \n",
      "Epoch 4/10\n",
      "133628/133628 [==============================] - 1s - loss: 0.5959 - acc: 0.9628     \n",
      "Epoch 5/10\n",
      "133628/133628 [==============================] - 1s - loss: 0.5959 - acc: 0.9628     \n",
      "Epoch 6/10\n",
      "133628/133628 [==============================] - 1s - loss: 0.5959 - acc: 0.9628     \n",
      "Epoch 7/10\n",
      "133628/133628 [==============================] - 1s - loss: 0.5959 - acc: 0.9628     \n",
      "Epoch 8/10\n",
      "133628/133628 [==============================] - 1s - loss: 0.5958 - acc: 0.9628     \n",
      "Epoch 9/10\n",
      "133628/133628 [==============================] - 1s - loss: 0.5958 - acc: 0.9628     \n",
      "Epoch 10/10\n",
      "133628/133628 [==============================] - 1s - loss: 0.5958 - acc: 0.9628     \n",
      "14847/14847 [==============================] - 0s     \n",
      "Accuracy: 96.52% (0.99%)\n"
     ]
    }
   ],
   "source": [
    "seed = 7\n",
    "np.random.seed(seed)\n",
    "estimator = KerasClassifier(build_fn=baseline_model, nb_epoch=200, batch_size=2000)\n",
    "kfold = KFold(n_splits=10, shuffle=True, random_state=seed)\n",
    "results = cross_val_score(estimator, train_questions_int, train_labels, cv=kfold)\n",
    "print(\"Accuracy: %.2f%% (%.2f%%)\" % (results.mean()*100, results.std()*100))"
   ]
  },
  {
   "cell_type": "code",
   "execution_count": 18,
   "metadata": {},
   "outputs": [
    {
     "name": "stderr",
     "output_type": "stream",
     "text": [
      "C:\\Users\\PatelCh\\conda\\envs\\tensorflow\\lib\\site-packages\\ipykernel\\__main__.py:3: UserWarning: Update your `Dense` call to the Keras 2 API: `Dense(160, input_dim=160, activation=\"relu\", kernel_initializer=\"normal\")`\n",
      "  app.launch_new_instance()\n",
      "C:\\Users\\PatelCh\\conda\\envs\\tensorflow\\lib\\site-packages\\ipykernel\\__main__.py:5: UserWarning: Update your `Dense` call to the Keras 2 API: `Dense(150, activation=\"relu\", kernel_initializer=\"normal\")`\n",
      "C:\\Users\\PatelCh\\conda\\envs\\tensorflow\\lib\\site-packages\\ipykernel\\__main__.py:7: UserWarning: Update your `Dense` call to the Keras 2 API: `Dense(150, activation=\"relu\", kernel_initializer=\"normal\")`\n",
      "C:\\Users\\PatelCh\\conda\\envs\\tensorflow\\lib\\site-packages\\ipykernel\\__main__.py:9: UserWarning: Update your `Dense` call to the Keras 2 API: `Dense(150, activation=\"relu\", kernel_initializer=\"normal\")`\n",
      "C:\\Users\\PatelCh\\conda\\envs\\tensorflow\\lib\\site-packages\\ipykernel\\__main__.py:11: UserWarning: Update your `Dense` call to the Keras 2 API: `Dense(132, activation=\"sigmoid\", kernel_initializer=\"normal\")`\n"
     ]
    }
   ],
   "source": [
    "preds = baseline_model().predict(test_questions_int)"
   ]
  },
  {
   "cell_type": "code",
   "execution_count": 23,
   "metadata": {},
   "outputs": [
    {
     "data": {
      "text/plain": [
       "(148475, 160)"
      ]
     },
     "execution_count": 23,
     "metadata": {},
     "output_type": "execute_result"
    }
   ],
   "source": [
    "test_questions_int.shape"
   ]
  },
  {
   "cell_type": "code",
   "execution_count": 20,
   "metadata": {
    "collapsed": true
   },
   "outputs": [],
   "source": [
    "from sklearn.metrics import accuracy_score"
   ]
  },
  {
   "cell_type": "code",
   "execution_count": 25,
   "metadata": {},
   "outputs": [],
   "source": [
    "import re\n",
    "import string\n",
    "import nltk\n",
    "import json\n",
    "\n",
    "from nltk.tokenize import word_tokenize\n",
    "from nltk.corpus import stopwords\n",
    "from nltk.stem.wordnet import WordNetLemmatizer\n",
    "from html.entities import name2codepoint\n",
    "from bs4 import BeautifulSoup"
   ]
  },
  {
   "cell_type": "code",
   "execution_count": 26,
   "metadata": {
    "collapsed": true
   },
   "outputs": [],
   "source": [
    "regex = re.compile('[%s]' % re.escape(string.punctuation))\n",
    "wordnet = WordNetLemmatizer()\n",
    "\n",
    "f = open(\"bagOfWords.json\", 'r')\n",
    "bag = json.loads(f.read())"
   ]
  },
  {
   "cell_type": "code",
   "execution_count": 27,
   "metadata": {
    "collapsed": true
   },
   "outputs": [],
   "source": [
    "def unescape(text):\n",
    "    def fixup(m):\n",
    "        text = m.group(0)\n",
    "        if text[:2] == \"&#\":\n",
    "            # character reference\n",
    "            try:\n",
    "                if text[:3] == \"&#x\":\n",
    "                    return chr(int(text[3:-1], 16))\n",
    "                else:\n",
    "                    return chr(int(text[2:-1]))\n",
    "            except ValueError:\n",
    "                pass\n",
    "        else:\n",
    "            # named entity\n",
    "            try:\n",
    "                text = chr(name2codepoint[text[1:-1]])\n",
    "            except KeyError:\n",
    "                pass\n",
    "        return text  # leave as is\n",
    "    return re.sub(\"&#?\\w+;\", fixup, text)"
   ]
  },
  {
   "cell_type": "code",
   "execution_count": 28,
   "metadata": {
    "collapsed": true
   },
   "outputs": [],
   "source": [
    "def cleanText(text):\n",
    "    text = text.lower()\n",
    "    soup = BeautifulSoup(unescape(text), \"html.parser\")\n",
    "    text = soup.get_text()  # nltk.clean_html(unescape(text))\n",
    "\n",
    "    tokens = word_tokenize(text)\n",
    "    new_tokens = []\n",
    "    for t in tokens:\n",
    "        nt = regex.sub(u'', t)\n",
    "        if not nt == u'' and nt not in stopwords.words('english'):\n",
    "            new_tokens.append(wordnet.lemmatize(nt))\n",
    "\n",
    "    return \" \".join(new_tokens)"
   ]
  },
  {
   "cell_type": "code",
   "execution_count": 29,
   "metadata": {
    "collapsed": true
   },
   "outputs": [],
   "source": [
    "userInput = \"\"\"Install amdgpu drivers on Ubuntu Server 16.04.3 LTS.  I have made it completely through the process of installing the AMDgpu drivers; yet at the end of the process when I run a package query, it finds no matching package.\n",
    "     wget --referer http://support.amd.com \\ > https://www2.ati.com/drivers/linux/ubuntu/amdgpu-pro-17.40-492261.tar.xz\n",
    "\n",
    "tar xvf amdgpu-pro-17.40-492261.tar.xz\n",
    "\n",
    "cd /amdgpu-pro-17.40-492261\n",
    "\n",
    "./amdgpu-pro-install --compute\"\"\""
   ]
  },
  {
   "cell_type": "code",
   "execution_count": 36,
   "metadata": {},
   "outputs": [],
   "source": [
    "train_questions_int = []\n",
    "userInpuuserInput = cleanText(userInput)\n",
    "inputTok = userInput.split()[:160]\n",
    "inputTok = [bag[t] if t in bag else 0 for t in inputTok]\n",
    "inputTok=inputTok+([0]*(160-len(inputTok)))\n",
    "\n"
   ]
  },
  {
   "cell_type": "code",
   "execution_count": 42,
   "metadata": {},
   "outputs": [],
   "source": [
    "\n",
    "inputTok = np.asarray(inputTok,dtype=np.float32)\n",
    "final = np.array([inputTok])"
   ]
  },
  {
   "cell_type": "code",
   "execution_count": 44,
   "metadata": {},
   "outputs": [
    {
     "name": "stderr",
     "output_type": "stream",
     "text": [
      "C:\\Users\\PatelCh\\conda\\envs\\tensorflow\\lib\\site-packages\\ipykernel\\__main__.py:3: UserWarning: Update your `Dense` call to the Keras 2 API: `Dense(160, input_dim=160, activation=\"relu\", kernel_initializer=\"normal\")`\n",
      "  app.launch_new_instance()\n",
      "C:\\Users\\PatelCh\\conda\\envs\\tensorflow\\lib\\site-packages\\ipykernel\\__main__.py:5: UserWarning: Update your `Dense` call to the Keras 2 API: `Dense(150, activation=\"relu\", kernel_initializer=\"normal\")`\n",
      "C:\\Users\\PatelCh\\conda\\envs\\tensorflow\\lib\\site-packages\\ipykernel\\__main__.py:7: UserWarning: Update your `Dense` call to the Keras 2 API: `Dense(150, activation=\"relu\", kernel_initializer=\"normal\")`\n",
      "C:\\Users\\PatelCh\\conda\\envs\\tensorflow\\lib\\site-packages\\ipykernel\\__main__.py:9: UserWarning: Update your `Dense` call to the Keras 2 API: `Dense(150, activation=\"relu\", kernel_initializer=\"normal\")`\n",
      "C:\\Users\\PatelCh\\conda\\envs\\tensorflow\\lib\\site-packages\\ipykernel\\__main__.py:11: UserWarning: Update your `Dense` call to the Keras 2 API: `Dense(132, activation=\"sigmoid\", kernel_initializer=\"normal\")`\n"
     ]
    }
   ],
   "source": [
    "preds = baseline_model().predict(final)"
   ]
  },
  {
   "cell_type": "code",
   "execution_count": 45,
   "metadata": {},
   "outputs": [
    {
     "data": {
      "text/plain": [
       "array([[  0.00000000e+00,   1.00000000e+00,   0.00000000e+00,\n",
       "          0.00000000e+00,   1.00000000e+00,   1.00000000e+00,\n",
       "          1.00000000e+00,   0.00000000e+00,   1.00000000e+00,\n",
       "          6.25656048e-13,   0.00000000e+00,   0.00000000e+00,\n",
       "          1.00000000e+00,   0.00000000e+00,   1.00000000e+00,\n",
       "          0.00000000e+00,   0.00000000e+00,   1.00000000e+00,\n",
       "          0.00000000e+00,   0.00000000e+00,   1.00000000e+00,\n",
       "          0.00000000e+00,   1.00000000e+00,   1.00000000e+00,\n",
       "          0.00000000e+00,   1.00000000e+00,   1.00000000e+00,\n",
       "          1.00000000e+00,   1.00000000e+00,   1.00000000e+00,\n",
       "          1.00000000e+00,   1.00000000e+00,   1.00000000e+00,\n",
       "          1.00000000e+00,   1.00000000e+00,   1.00000000e+00,\n",
       "          1.00000000e+00,   1.00000000e+00,   0.00000000e+00,\n",
       "          1.00000000e+00,   1.00000000e+00,   0.00000000e+00,\n",
       "          1.00000000e+00,   0.00000000e+00,   1.00000000e+00,\n",
       "          1.00000000e+00,   0.00000000e+00,   0.00000000e+00,\n",
       "          0.00000000e+00,   1.00000000e+00,   1.00000000e+00,\n",
       "          1.00000000e+00,   1.00000000e+00,   1.00000000e+00,\n",
       "          1.00000000e+00,   0.00000000e+00,   0.00000000e+00,\n",
       "          0.00000000e+00,   0.00000000e+00,   0.00000000e+00,\n",
       "          9.50607180e-04,   1.00000000e+00,   1.00000000e+00,\n",
       "          0.00000000e+00,   1.00000000e+00,   1.00000000e+00,\n",
       "          1.00000000e+00,   1.00000000e+00,   0.00000000e+00,\n",
       "          0.00000000e+00,   1.00000000e+00,   1.00000000e+00,\n",
       "          0.00000000e+00,   1.00000000e+00,   1.00000000e+00,\n",
       "          1.00000000e+00,   0.00000000e+00,   0.00000000e+00,\n",
       "          0.00000000e+00,   1.00000000e+00,   1.00000000e+00,\n",
       "          1.00000000e+00,   1.00000000e+00,   1.00000000e+00,\n",
       "          0.00000000e+00,   1.00000000e+00,   1.00000000e+00,\n",
       "          1.00000000e+00,   1.00000000e+00,   0.00000000e+00,\n",
       "          0.00000000e+00,   0.00000000e+00,   0.00000000e+00,\n",
       "          0.00000000e+00,   0.00000000e+00,   1.00000000e+00,\n",
       "          0.00000000e+00,   4.09343374e-05,   1.00000000e+00,\n",
       "          0.00000000e+00,   0.00000000e+00,   1.00000000e+00,\n",
       "          0.00000000e+00,   0.00000000e+00,   0.00000000e+00,\n",
       "          0.00000000e+00,   0.00000000e+00,   1.00000000e+00,\n",
       "          0.00000000e+00,   0.00000000e+00,   1.00000000e+00,\n",
       "          5.47180094e-30,   0.00000000e+00,   1.00000000e+00,\n",
       "          0.00000000e+00,   0.00000000e+00,   1.00000000e+00,\n",
       "          1.00000000e+00,   1.00000000e+00,   1.00000000e+00,\n",
       "          0.00000000e+00,   0.00000000e+00,   0.00000000e+00,\n",
       "          0.00000000e+00,   0.00000000e+00,   0.00000000e+00,\n",
       "          1.00000000e+00,   0.00000000e+00,   1.00000000e+00,\n",
       "          0.00000000e+00,   1.00000000e+00,   0.00000000e+00]], dtype=float32)"
      ]
     },
     "execution_count": 45,
     "metadata": {},
     "output_type": "execute_result"
    }
   ],
   "source": [
    "preds"
   ]
  }
 ],
 "metadata": {
  "kernelspec": {
   "display_name": "Python [conda env:tensorflow]",
   "language": "python",
   "name": "conda-env-tensorflow-py"
  },
  "language_info": {
   "codemirror_mode": {
    "name": "ipython",
    "version": 3
   },
   "file_extension": ".py",
   "mimetype": "text/x-python",
   "name": "python",
   "nbconvert_exporter": "python",
   "pygments_lexer": "ipython3",
   "version": "3.5.3"
  }
 },
 "nbformat": 4,
 "nbformat_minor": 2
}
